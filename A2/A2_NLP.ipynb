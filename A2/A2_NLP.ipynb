{
  "nbformat": 4,
  "nbformat_minor": 0,
  "metadata": {
    "colab": {
      "name": "A2_NLP.ipynb",
      "provenance": [],
      "collapsed_sections": []
    },
    "kernelspec": {
      "name": "python3",
      "display_name": "Python 3"
    },
    "language_info": {
      "name": "python"
    }
  },
  "cells": [
    {
      "cell_type": "code",
      "metadata": {
        "colab": {
          "base_uri": "https://localhost:8080/"
        },
        "id": "D6GPGER5KSUF",
        "outputId": "ab151622-a570-40a8-af35-a7575e4170f9"
      },
      "source": [
        "from google.colab import drive\n",
        "drive.mount('/content/drive')"
      ],
      "execution_count": null,
      "outputs": [
        {
          "output_type": "stream",
          "text": [
            "Drive already mounted at /content/drive; to attempt to forcibly remount, call drive.mount(\"/content/drive\", force_remount=True).\n"
          ],
          "name": "stdout"
        }
      ]
    },
    {
      "cell_type": "code",
      "metadata": {
        "id": "yDrfUekLYcUz"
      },
      "source": [
        "def cleanData(sentences):\n",
        "  sentences = re.sub('[^A-Za-z0-9]+', ' ', sentences)\n",
        "  # remove special characters\n",
        "  sentences = re.sub('[^A-Za-z0-9]+', ' ', sentences)\n",
        "  # remove 1 letter words\n",
        "  sentences = re.sub(r'(?:^| )\\w(?:$| )', ' ', sentences).strip()\n",
        "  # lower all characters\n",
        "  sentences = sentences.lower()\n",
        "  return sentences"
      ],
      "execution_count": null,
      "outputs": []
    },
    {
      "cell_type": "code",
      "metadata": {
        "id": "wn2l5yeWncO0",
        "colab": {
          "base_uri": "https://localhost:8080/",
          "height": 391
        },
        "outputId": "90106c54-0a64-4809-ccdd-652e3d10c1e7"
      },
      "source": [
        "import os\n",
        "import sys\n",
        "import pathlib\n",
        "import pandas as pd\n",
        "import re\n",
        "import numpy as np\n",
        "import matplotlib.pyplot as plt\n",
        "\n",
        "documentPos = []\n",
        "documentNeg = []\n",
        "\n",
        "\n",
        "for path in pathlib.Path(\"/content/drive/MyDrive/nlp2/pos\").iterdir():\n",
        "    if path.is_file():\n",
        "        current_file = open(path, \"r\")\n",
        "        review = cleanData(str(current_file.read()))\n",
        "        documentPos.append(review)\n",
        "        current_file.close()\n",
        "\n",
        "for path in pathlib.Path(\"/content/drive/MyDrive/nlp2/neg\").iterdir():\n",
        "    if path.is_file():\n",
        "        current_file = open(path, \"r\")\n",
        "        review = cleanData(str(current_file.read()))\n",
        "        documentNeg.append(review)\n",
        "        current_file.close()\n",
        "\n",
        "\n",
        "\n",
        "document = documentPos + documentNeg\n",
        "\n",
        "df = pd.DataFrame( document , columns=['text'])\n",
        "\n",
        "labelpos = [1]*1000\n",
        "labelneg = [0]*1000\n",
        "label = labelpos + labelneg\n",
        "\n",
        "df['label'] = label\n",
        "\n",
        "# print(df.head())\n",
        "\n",
        "df\n"
      ],
      "execution_count": null,
      "outputs": [
        {
          "output_type": "execute_result",
          "data": {
            "text/html": [
              "<div>\n",
              "<style scoped>\n",
              "    .dataframe tbody tr th:only-of-type {\n",
              "        vertical-align: middle;\n",
              "    }\n",
              "\n",
              "    .dataframe tbody tr th {\n",
              "        vertical-align: top;\n",
              "    }\n",
              "\n",
              "    .dataframe thead th {\n",
              "        text-align: right;\n",
              "    }\n",
              "</style>\n",
              "<table border=\"1\" class=\"dataframe\">\n",
              "  <thead>\n",
              "    <tr style=\"text-align: right;\">\n",
              "      <th></th>\n",
              "      <th>text</th>\n",
              "      <th>label</th>\n",
              "    </tr>\n",
              "  </thead>\n",
              "  <tbody>\n",
              "    <tr>\n",
              "      <th>0</th>\n",
              "      <td>films adapted from comic books have had plenty...</td>\n",
              "      <td>1</td>\n",
              "    </tr>\n",
              "    <tr>\n",
              "      <th>1</th>\n",
              "      <td>every now and then movie comes along from susp...</td>\n",
              "      <td>1</td>\n",
              "    </tr>\n",
              "    <tr>\n",
              "      <th>2</th>\n",
              "      <td>you ve got mail works alot better than it dese...</td>\n",
              "      <td>1</td>\n",
              "    </tr>\n",
              "    <tr>\n",
              "      <th>3</th>\n",
              "      <td>jaws is rare film that grabs your attention be...</td>\n",
              "      <td>1</td>\n",
              "    </tr>\n",
              "    <tr>\n",
              "      <th>4</th>\n",
              "      <td>moviemaking is lot like being the general mana...</td>\n",
              "      <td>1</td>\n",
              "    </tr>\n",
              "    <tr>\n",
              "      <th>...</th>\n",
              "      <td>...</td>\n",
              "      <td>...</td>\n",
              "    </tr>\n",
              "    <tr>\n",
              "      <th>1995</th>\n",
              "      <td>if anything stigmata should be taken as warnin...</td>\n",
              "      <td>0</td>\n",
              "    </tr>\n",
              "    <tr>\n",
              "      <th>1996</th>\n",
              "      <td>john boorman zardoz is goofy cinematic debacle...</td>\n",
              "      <td>0</td>\n",
              "    </tr>\n",
              "    <tr>\n",
              "      <th>1997</th>\n",
              "      <td>the kids in the hall are an acquired taste it ...</td>\n",
              "      <td>0</td>\n",
              "    </tr>\n",
              "    <tr>\n",
              "      <th>1998</th>\n",
              "      <td>there was time when john carpenter was great h...</td>\n",
              "      <td>0</td>\n",
              "    </tr>\n",
              "    <tr>\n",
              "      <th>1999</th>\n",
              "      <td>two party guys bob their heads to haddaway dan...</td>\n",
              "      <td>0</td>\n",
              "    </tr>\n",
              "  </tbody>\n",
              "</table>\n",
              "<p>2000 rows × 2 columns</p>\n",
              "</div>"
            ],
            "text/plain": [
              "                                                   text  label\n",
              "0     films adapted from comic books have had plenty...      1\n",
              "1     every now and then movie comes along from susp...      1\n",
              "2     you ve got mail works alot better than it dese...      1\n",
              "3     jaws is rare film that grabs your attention be...      1\n",
              "4     moviemaking is lot like being the general mana...      1\n",
              "...                                                 ...    ...\n",
              "1995  if anything stigmata should be taken as warnin...      0\n",
              "1996  john boorman zardoz is goofy cinematic debacle...      0\n",
              "1997  the kids in the hall are an acquired taste it ...      0\n",
              "1998  there was time when john carpenter was great h...      0\n",
              "1999  two party guys bob their heads to haddaway dan...      0\n",
              "\n",
              "[2000 rows x 2 columns]"
            ]
          },
          "metadata": {
            "tags": []
          },
          "execution_count": 29
        }
      ]
    },
    {
      "cell_type": "code",
      "metadata": {
        "id": "yOKOHxy6QSdc"
      },
      "source": [
        "from sklearn.model_selection import train_test_split\n",
        "X = df['text']\n",
        "y = df['label']\n",
        "\n",
        "X_train, X_test, y_train, y_test = train_test_split(X, y, test_size=0.33, random_state=42)"
      ],
      "execution_count": null,
      "outputs": []
    },
    {
      "cell_type": "code",
      "metadata": {
        "id": "pLGaSM3QAJRc"
      },
      "source": [
        "# settings that you use for count vectorizer will go here \n",
        "# tfidf_vectorizer=TfidfVectorizer(use_idf=True) \n",
        " \n",
        "# # just send in all your docs here \n",
        "# tfidf_vectorizer_vectors = tfidf_vectorizer.fit_transform(document)\n"
      ],
      "execution_count": null,
      "outputs": []
    },
    {
      "cell_type": "code",
      "metadata": {
        "id": "C7xBpFeyA92s"
      },
      "source": [
        "# X_train, X_test, y_train, y_test = train_test_split(tfidf_vectorizer_vectors, y, test_size=0.33, random_state=42)"
      ],
      "execution_count": null,
      "outputs": []
    },
    {
      "cell_type": "code",
      "metadata": {
        "id": "9kvPADpkEqdj"
      },
      "source": [
        "print(X_test.shape)"
      ],
      "execution_count": null,
      "outputs": []
    },
    {
      "cell_type": "code",
      "metadata": {
        "id": "akiqarD0A64t"
      },
      "source": [
        "# from sklearn import svm\n",
        "# from sklearn.metrics import accuracy_score\n",
        "\n",
        "# clf = svm.SVC(kernel='linear', C = 1.0 , max_iter=1500)\n",
        "\n",
        "# clf.fit(X_train,y_train)\n",
        "# pred = clf.predict(X_test)\n",
        "\n",
        "# accuracy_svm = accuracy_score(y_test, pred)\n",
        "\n",
        "# print('Accuracy: %.2f' % (accuracy_svm*100),'%') "
      ],
      "execution_count": null,
      "outputs": []
    },
    {
      "cell_type": "code",
      "metadata": {
        "colab": {
          "base_uri": "https://localhost:8080/"
        },
        "id": "ow034NJ2Hhoj",
        "outputId": "551ef699-6b08-40f2-c830-975d7bcaa422"
      },
      "source": [
        "text_clf = Pipeline([('tfidf', TfidfVectorizer()),\n",
        "                     ('clf', LinearSVC()),])\n",
        "\n",
        "\n",
        "text_clf.fit(X_train, y_train)  \n",
        "\n",
        "\n",
        "predictions = text_clf.predict(X_test)\n",
        "\n",
        "print(metrics.accuracy_score(y_test,predictions))\n"
      ],
      "execution_count": null,
      "outputs": [
        {
          "output_type": "stream",
          "text": [
            "0.8409090909090909\n"
          ],
          "name": "stdout"
        }
      ]
    },
    {
      "cell_type": "code",
      "metadata": {
        "colab": {
          "base_uri": "https://localhost:8080/"
        },
        "id": "wKSiUD3UIDYj",
        "outputId": "63cd42d4-867a-4668-e2ee-bcbfc6f0650c"
      },
      "source": [
        "text_clf['clf'].coef_[0][:10]"
      ],
      "execution_count": null,
      "outputs": [
        {
          "output_type": "execute_result",
          "data": {
            "text/plain": [
              "array([ 0.08623831,  0.00067443,  0.00742417,  0.10901635, -0.051393  ,\n",
              "       -0.0256965 , -0.0256965 ,  0.45350374,  0.13317529, -0.03227555])"
            ]
          },
          "metadata": {
            "tags": []
          },
          "execution_count": 131
        }
      ]
    },
    {
      "cell_type": "code",
      "metadata": {
        "colab": {
          "base_uri": "https://localhost:8080/"
        },
        "id": "AyGL8HPrV5SN",
        "outputId": "14d7be9c-0e42-46ab-8d4b-4cea5dfe1d18"
      },
      "source": [
        "text_clf.predict(['I enjoy the movie '])[0]"
      ],
      "execution_count": null,
      "outputs": [
        {
          "output_type": "execute_result",
          "data": {
            "text/plain": [
              "1"
            ]
          },
          "metadata": {
            "tags": []
          },
          "execution_count": 106
        }
      ]
    },
    {
      "cell_type": "code",
      "metadata": {
        "colab": {
          "base_uri": "https://localhost:8080/"
        },
        "id": "1qqVsJGDa10q",
        "outputId": "f6421d23-39a3-4064-ddea-c5ef6b0bc9d3"
      },
      "source": [
        "text_clf.predict(['the movie disappointed but great'])[0]"
      ],
      "execution_count": null,
      "outputs": [
        {
          "output_type": "execute_result",
          "data": {
            "text/plain": [
              "1"
            ]
          },
          "metadata": {
            "tags": []
          },
          "execution_count": 107
        }
      ]
    },
    {
      "cell_type": "code",
      "metadata": {
        "colab": {
          "base_uri": "https://localhost:8080/"
        },
        "id": "gDTR7fMiRLUI",
        "outputId": "41a682ab-c326-4999-9c06-7ac269dd720e"
      },
      "source": [
        "indexes = y_test.index.tolist()\n",
        "len(indexes)"
      ],
      "execution_count": null,
      "outputs": [
        {
          "output_type": "execute_result",
          "data": {
            "text/plain": [
              "660"
            ]
          },
          "metadata": {
            "tags": []
          },
          "execution_count": 108
        }
      ]
    },
    {
      "cell_type": "code",
      "metadata": {
        "colab": {
          "base_uri": "https://localhost:8080/",
          "height": 278
        },
        "id": "fQoCR1wXPsEB",
        "outputId": "bae84d0c-fc02-4b5d-9b8f-6c713a1750f7"
      },
      "source": [
        "plt.clf()\n",
        "plt.xlabel(\"Sample\")\n",
        "plt.ylabel(\"Review\")\n",
        "color = y_test.apply(lambda x: 'green' if x == 1 else 'red')\n",
        "plt.scatter(indexes, y_test , c=color)\n",
        "X = [0,250,500,750,1000,1250]\n",
        "Y = [0.0,0.2,0.4,0.6,0.8,1]\n",
        "plt.plot(X,Y)\n",
        "plt.show()"
      ],
      "execution_count": null,
      "outputs": [
        {
          "output_type": "display_data",
          "data": {
            "image/png": "[encoded data removed]",
            "text/plain": [
              "<Figure size 432x288 with 1 Axes>"
            ]
          },
          "metadata": {
            "tags": [],
            "needs_background": "light"
          }
        }
      ]
    },
    {
      "cell_type": "code",
      "metadata": {
        "id": "-FTzPfjfVSYh"
      },
      "source": [
        "indexes2 = df.index.tolist()"
      ],
      "execution_count": null,
      "outputs": []
    },
    {
      "cell_type": "code",
      "metadata": {
        "colab": {
          "base_uri": "https://localhost:8080/"
        },
        "id": "RrTbFy-nQH_L",
        "outputId": "e7eef0ce-b84f-447f-ac10-b47fd2cb0985"
      },
      "source": [
        "text = input('Enter text to predict:')\n",
        "res = text_clf.predict([text])[0]\n",
        "\n",
        "if res == 0:\n",
        "  print('This review is negative')\n",
        "else:\n",
        "  print('This review is postive')\n"
      ],
      "execution_count": null,
      "outputs": [
        {
          "output_type": "stream",
          "text": [
            "Enter text to predict:the movie is good\n",
            "This review is postive\n"
          ],
          "name": "stdout"
        }
      ]
    },
    {
      "cell_type": "code",
      "metadata": {
        "id": "4uedSTb4HsAJ"
      },
      "source": [
        ""
      ],
      "execution_count": null,
      "outputs": []
    }
  ]
}