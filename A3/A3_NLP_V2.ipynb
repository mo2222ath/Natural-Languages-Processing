{
  "nbformat": 4,
  "nbformat_minor": 0,
  "metadata": {
    "colab": {
      "name": "A3_NLP_V2.ipynb",
      "provenance": [],
      "collapsed_sections": []
    },
    "kernelspec": {
      "name": "python3",
      "display_name": "Python 3"
    },
    "language_info": {
      "name": "python"
    }
  },
  "cells": [
    {
      "cell_type": "code",
      "metadata": {
        "id": "M26xW0Rn2lHo"
      },
      "source": [
        ""
      ],
      "execution_count": null,
      "outputs": []
    },
    {
      "cell_type": "code",
      "metadata": {
        "colab": {
          "base_uri": "https://localhost:8080/"
        },
        "id": "FPowWngx5n04",
        "outputId": "301e9083-ad27-4db3-ae5f-70008e90ac3f"
      },
      "source": [
        "from google.colab import drive\n",
        "drive.mount('/content/drive',force_remount=True)"
      ],
      "execution_count": null,
      "outputs": [
        {
          "output_type": "stream",
          "text": [
            "Mounted at /content/drive\n"
          ],
          "name": "stdout"
        }
      ]
    },
    {
      "cell_type": "code",
      "metadata": {
        "id": "nYkT1Dbv53lb"
      },
      "source": [
        "def cleanData(sentences):\n",
        "  # remove special characters\n",
        "  sentences = re.sub('[^A-Za-z0-9]+', ' ', sentences)\n",
        "  # remove 1 letter words\n",
        "  sentences = re.sub(r'(?:^| )\\w(?:$| )', ' ', sentences).strip()\n",
        "  # lower all characters\n",
        "  sentences = sentences.lower()\n",
        "  return sentences"
      ],
      "execution_count": null,
      "outputs": []
    },
    {
      "cell_type": "code",
      "metadata": {
        "colab": {
          "base_uri": "https://localhost:8080/",
          "height": 417
        },
        "id": "NFoqWDpx575T",
        "outputId": "7b2cee8b-1c43-4cc8-bb8b-7278c74018e9"
      },
      "source": [
        "import os\n",
        "import sys\n",
        "import pathlib\n",
        "import pandas as pd\n",
        "import re\n",
        "import numpy as np\n",
        "import matplotlib.pyplot as plt\n",
        "\n",
        "documentPos = []\n",
        "documentNeg = []\n",
        "\n",
        "\n",
        "for path in pathlib.Path(\"/content/drive/MyDrive/nlp2/pos\").iterdir():\n",
        "    if path.is_file():\n",
        "        current_file = open(path, \"r\")\n",
        "        review = cleanData(str(current_file.read()))\n",
        "        documentPos.append(review)\n",
        "        current_file.close()\n",
        "\n",
        "for path in pathlib.Path(\"/content/drive/MyDrive/nlp2/neg\").iterdir():\n",
        "    if path.is_file():\n",
        "        current_file = open(path, \"r\")\n",
        "        review = cleanData(str(current_file.read()))\n",
        "        documentNeg.append(review)\n",
        "        current_file.close()\n",
        "\n",
        "\n",
        "\n",
        "document = documentPos + documentNeg\n",
        "\n",
        "\n",
        "labelpos = [1]*1000\n",
        "labelneg = [0]*1000\n",
        "label = labelpos + labelneg\n",
        "\n",
        "data = {'text': document,'label':label,}\n",
        "df = pd.DataFrame(data)\n",
        "#df['label'] = label\n",
        "\n",
        "# print(df.head())\n",
        "\n",
        "df"
      ],
      "execution_count": null,
      "outputs": [
        {
          "output_type": "execute_result",
          "data": {
            "text/html": [
              "<div>\n",
              "<style scoped>\n",
              "    .dataframe tbody tr th:only-of-type {\n",
              "        vertical-align: middle;\n",
              "    }\n",
              "\n",
              "    .dataframe tbody tr th {\n",
              "        vertical-align: top;\n",
              "    }\n",
              "\n",
              "    .dataframe thead th {\n",
              "        text-align: right;\n",
              "    }\n",
              "</style>\n",
              "<table border=\"1\" class=\"dataframe\">\n",
              "  <thead>\n",
              "    <tr style=\"text-align: right;\">\n",
              "      <th></th>\n",
              "      <th>text</th>\n",
              "      <th>label</th>\n",
              "    </tr>\n",
              "  </thead>\n",
              "  <tbody>\n",
              "    <tr>\n",
              "      <th>0</th>\n",
              "      <td>films adapted from comic books have had plenty...</td>\n",
              "      <td>1</td>\n",
              "    </tr>\n",
              "    <tr>\n",
              "      <th>1</th>\n",
              "      <td>every now and then movie comes along from susp...</td>\n",
              "      <td>1</td>\n",
              "    </tr>\n",
              "    <tr>\n",
              "      <th>2</th>\n",
              "      <td>you ve got mail works alot better than it dese...</td>\n",
              "      <td>1</td>\n",
              "    </tr>\n",
              "    <tr>\n",
              "      <th>3</th>\n",
              "      <td>jaws is rare film that grabs your attention be...</td>\n",
              "      <td>1</td>\n",
              "    </tr>\n",
              "    <tr>\n",
              "      <th>4</th>\n",
              "      <td>moviemaking is lot like being the general mana...</td>\n",
              "      <td>1</td>\n",
              "    </tr>\n",
              "    <tr>\n",
              "      <th>...</th>\n",
              "      <td>...</td>\n",
              "      <td>...</td>\n",
              "    </tr>\n",
              "    <tr>\n",
              "      <th>1995</th>\n",
              "      <td>if anything stigmata should be taken as warnin...</td>\n",
              "      <td>0</td>\n",
              "    </tr>\n",
              "    <tr>\n",
              "      <th>1996</th>\n",
              "      <td>john boorman zardoz is goofy cinematic debacle...</td>\n",
              "      <td>0</td>\n",
              "    </tr>\n",
              "    <tr>\n",
              "      <th>1997</th>\n",
              "      <td>the kids in the hall are an acquired taste it ...</td>\n",
              "      <td>0</td>\n",
              "    </tr>\n",
              "    <tr>\n",
              "      <th>1998</th>\n",
              "      <td>there was time when john carpenter was great h...</td>\n",
              "      <td>0</td>\n",
              "    </tr>\n",
              "    <tr>\n",
              "      <th>1999</th>\n",
              "      <td>two party guys bob their heads to haddaway dan...</td>\n",
              "      <td>0</td>\n",
              "    </tr>\n",
              "  </tbody>\n",
              "</table>\n",
              "<p>2000 rows × 2 columns</p>\n",
              "</div>"
            ],
            "text/plain": [
              "                                                   text  label\n",
              "0     films adapted from comic books have had plenty...      1\n",
              "1     every now and then movie comes along from susp...      1\n",
              "2     you ve got mail works alot better than it dese...      1\n",
              "3     jaws is rare film that grabs your attention be...      1\n",
              "4     moviemaking is lot like being the general mana...      1\n",
              "...                                                 ...    ...\n",
              "1995  if anything stigmata should be taken as warnin...      0\n",
              "1996  john boorman zardoz is goofy cinematic debacle...      0\n",
              "1997  the kids in the hall are an acquired taste it ...      0\n",
              "1998  there was time when john carpenter was great h...      0\n",
              "1999  two party guys bob their heads to haddaway dan...      0\n",
              "\n",
              "[2000 rows x 2 columns]"
            ]
          },
          "metadata": {
            "tags": []
          },
          "execution_count": 3
        }
      ]
    },
    {
      "cell_type": "code",
      "metadata": {
        "id": "Ix7l3De49OYU"
      },
      "source": [
        "from sklearn.model_selection import train_test_split\n",
        "X = df['text']\n",
        "Y = df['label']\n",
        "\n",
        "# X_train, X_test, y_train, y_test = train_test_split(X, Y, test_size=0.33, random_state=42)\n",
        "# X_train = np.array(X_train)\n",
        "# X_test = np.array(X_test)\n",
        "# y_train = np.array(y_train)\n",
        "# y_test = np.array(y_test)"
      ],
      "execution_count": null,
      "outputs": []
    },
    {
      "cell_type": "code",
      "metadata": {
        "id": "JoOmMOHI6BfJ"
      },
      "source": [
        "from nltk.tokenize import sent_tokenize, word_tokenize\n",
        "import warnings\n",
        "import nltk\n",
        "# nltk.download('punkt')\n",
        "warnings.filterwarnings(action = 'ignore')\n",
        "import gensim\n",
        "from gensim.models import Word2Vec\n",
        "\n",
        "listWords = []\n",
        "vocab = []\n",
        "for review in X:\n",
        "  listWords.append(review.split())\n",
        "\n",
        "for eachListwords in listWords:\n",
        "  vocab.append(set(eachListwords))\n"
      ],
      "execution_count": null,
      "outputs": []
    },
    {
      "cell_type": "code",
      "metadata": {
        "id": "8lWtsrV4bSEb"
      },
      "source": [
        "# Create CBOW model\n",
        "model1 = gensim.models.Word2Vec(listWords, min_count = 3, size = 120, window = 10,sg=1,iter=100)    \n",
        "# model1 = gensim.models.Word2Vec(listWords, min_count = 3, size = 150, window = 5,sg=1)    \n",
        "# model1 = gensim.models.Word2Vec(listWords, min_count = 3, size = 100, window = 5,sg=1)    \n",
        "# model1 = gensim.models.Word2Vec(listWords, min_count = 3, size = 120, window = 7,sg=1)    "
      ],
      "execution_count": null,
      "outputs": []
    },
    {
      "cell_type": "code",
      "metadata": {
        "colab": {
          "base_uri": "https://localhost:8080/"
        },
        "id": "HPGhXoLnc1_7",
        "outputId": "fb319b35-f418-475d-d778-280f5b57f40a"
      },
      "source": [
        "len(model1.wv.vocab)"
      ],
      "execution_count": null,
      "outputs": [
        {
          "output_type": "execute_result",
          "data": {
            "text/plain": [
              "20175"
            ]
          },
          "metadata": {
            "tags": []
          },
          "execution_count": 24
        }
      ]
    },
    {
      "cell_type": "code",
      "metadata": {
        "id": "k2XOGuLI_F7L",
        "colab": {
          "base_uri": "https://localhost:8080/"
        },
        "outputId": "28c66155-ccac-45d9-ca33-eb3b60927c16"
      },
      "source": [
        "# Print results\n",
        "print(model1.wv.similarity('good', 'great'))"
      ],
      "execution_count": null,
      "outputs": [
        {
          "output_type": "stream",
          "text": [
            "0.53754896\n"
          ],
          "name": "stdout"
        }
      ]
    },
    {
      "cell_type": "code",
      "metadata": {
        "colab": {
          "base_uri": "https://localhost:8080/"
        },
        "id": "Ljjo_Sdk10Q_",
        "outputId": "3ddc25e4-4a4a-434b-d5a8-f62663827b6c"
      },
      "source": [
        "model1.most_similar(\"genre\")"
      ],
      "execution_count": null,
      "outputs": [
        {
          "output_type": "execute_result",
          "data": {
            "text/plain": [
              "[('slasher', 0.6126530170440674),\n",
              " ('horror', 0.5639394521713257),\n",
              " ('films', 0.5629593133926392),\n",
              " ('flicks', 0.5159400105476379),\n",
              " ('thriller', 0.5157788991928101),\n",
              " ('aficionados', 0.49728766083717346),\n",
              " ('recent', 0.49569928646087646),\n",
              " ('action', 0.4848017394542694),\n",
              " ('movies', 0.48157167434692383),\n",
              " ('fiction', 0.47945791482925415)]"
            ]
          },
          "metadata": {
            "tags": []
          },
          "execution_count": 26
        }
      ]
    },
    {
      "cell_type": "code",
      "metadata": {
        "id": "tj4avpIRQXFZ"
      },
      "source": [
        "def get_mean_vector(word2vec_model, vocab):\n",
        "    mean_vectors = []\n",
        "    for words in vocab:\n",
        "      words = [word for word in words if word in word2vec_model]\n",
        "      mean_vectors.append(np.mean(word2vec_model[words], axis=0))\n",
        "    return np.array(mean_vectors)"
      ],
      "execution_count": null,
      "outputs": []
    },
    {
      "cell_type": "code",
      "metadata": {
        "id": "0loIyLXAigHE",
        "colab": {
          "base_uri": "https://localhost:8080/"
        },
        "outputId": "72e577df-838b-45f6-842e-bf43ff7b47ea"
      },
      "source": [
        "mean_vectors = get_mean_vector(model1,vocab)\n",
        "mean_vectors.shape"
      ],
      "execution_count": null,
      "outputs": [
        {
          "output_type": "execute_result",
          "data": {
            "text/plain": [
              "(2000, 120)"
            ]
          },
          "metadata": {
            "tags": []
          },
          "execution_count": 28
        }
      ]
    },
    {
      "cell_type": "code",
      "metadata": {
        "id": "4XCxuamVIVcu"
      },
      "source": [
        "X_train_Vector, X_test_Vector, y_train_Vector, y_test_Vector = train_test_split(mean_vectors, Y, test_size=0.33, random_state=42)"
      ],
      "execution_count": null,
      "outputs": []
    },
    {
      "cell_type": "code",
      "metadata": {
        "colab": {
          "base_uri": "https://localhost:8080/"
        },
        "id": "Osae22LNGjrr",
        "outputId": "b9dcfa9c-276b-429f-a3c5-30666a17cb86"
      },
      "source": [
        "from sklearn import svm\n",
        "from sklearn.metrics import accuracy_score\n",
        "\n",
        "# clf = svm.SVC(kernel='linear',tol=0.01)   #accuracy = 68.03%  other learning values make accuracy worse\n",
        "clf = svm.LinearSVC(tol=0.01)               #accuracy = 72.42%  tol=0.01 other learning values make accuracy same or worse\n",
        "\n",
        "clf.fit(X_train_Vector,y_train_Vector)\n",
        "pred = clf.predict(X_test_Vector)\n",
        "\n",
        "accuracy_svm = accuracy_score(y_test_Vector, pred)\n",
        "\n",
        "print('Accuracy: %.2f' % (accuracy_svm*100),'%') "
      ],
      "execution_count": null,
      "outputs": [
        {
          "output_type": "stream",
          "text": [
            "Accuracy: 84.09 %\n"
          ],
          "name": "stdout"
        }
      ]
    },
    {
      "cell_type": "code",
      "metadata": {
        "colab": {
          "base_uri": "https://localhost:8080/"
        },
        "id": "vcaF7CnqAmp4",
        "outputId": "f12d992f-2e75-4c5e-cb01-d51f74755545"
      },
      "source": [
        "from keras.models import Sequential\n",
        "from keras.layers import Dense\n",
        "\n",
        "# define the keras model\n",
        "model = Sequential()\n",
        "model.add(Dense(10, input_dim=len(X_train_Vector[0]), activation='relu'))\n",
        "# model.add(Dense(10, activation='relu'))\n",
        "model.add(Dense(1, activation='sigmoid'))\n",
        "\n",
        "# compile the keras model\n",
        "model.compile(loss='binary_crossentropy', optimizer='adam', metrics=['accuracy'])\n",
        "\n",
        "# print(model.summary())\n",
        "\n",
        "# fit the keras model on the dataset (training)\n",
        "his = model.fit(X_train_Vector, y_train_Vector, epochs=2000, batch_size=50, verbose=0)\n",
        "\n",
        "# evaluate the keras model (testing) \n",
        "loss , accuracy = model.evaluate(X_test_Vector, y_test_Vector)\n",
        "print('Accuracy: %.2f' % (accuracy*100),'%')"
      ],
      "execution_count": null,
      "outputs": [
        {
          "output_type": "stream",
          "text": [
            "21/21 [==============================] - 0s 848us/step - loss: 0.3930 - accuracy: 0.8470\n",
            "Accuracy: 84.70 %\n"
          ],
          "name": "stdout"
        }
      ]
    },
    {
      "cell_type": "code",
      "metadata": {
        "colab": {
          "base_uri": "https://localhost:8080/",
          "height": 295
        },
        "id": "KX_nlYWUYCT1",
        "outputId": "198957d1-166b-489b-e83c-3893eeed2c68"
      },
      "source": [
        "plt.plot(his.history['accuracy'])\n",
        "plt.plot(his.history['loss'])\n",
        "plt.title('model loss')\n",
        "plt.ylabel('accuracy & loss')\n",
        "plt.xlabel('epoch')\n",
        "plt.legend(['accuracy', 'loss'], loc='upper left')\n",
        "plt.show()"
      ],
      "execution_count": null,
      "outputs": [
        {
          "output_type": "display_data",
          "data": {
            "image/png": "[encoded data removed]",
            "text/plain": [
              "<Figure size 432x288 with 1 Axes>"
            ]
          },
          "metadata": {
            "tags": [],
            "needs_background": "light"
          }
        }
      ]
    },
    {
      "cell_type": "code",
      "metadata": {
        "colab": {
          "base_uri": "https://localhost:8080/"
        },
        "id": "-pl2XMoW1fXJ",
        "outputId": "d86293d8-974e-45b8-daad-08de46fd417b"
      },
      "source": [
        "model.summary()"
      ],
      "execution_count": null,
      "outputs": [
        {
          "output_type": "stream",
          "text": [
            "Model: \"sequential_2\"\n",
            "_________________________________________________________________\n",
            "Layer (type)                 Output Shape              Param #   \n",
            "=================================================================\n",
            "dense_4 (Dense)              (None, 10)                1010      \n",
            "_________________________________________________________________\n",
            "dense_5 (Dense)              (None, 1)                 11        \n",
            "=================================================================\n",
            "Total params: 1,021\n",
            "Trainable params: 1,021\n",
            "Non-trainable params: 0\n",
            "_________________________________________________________________\n"
          ],
          "name": "stdout"
        }
      ]
    }
  ]
}